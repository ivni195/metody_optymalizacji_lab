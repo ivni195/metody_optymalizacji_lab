{
 "cells": [
  {
   "cell_type": "code",
   "execution_count": 1,
   "id": "ad89a908-79a4-469f-ba6d-0e13438fd36a",
   "metadata": {},
   "outputs": [],
   "source": [
    "import numpy as np"
   ]
  },
  {
   "cell_type": "code",
   "execution_count": 2,
   "id": "b35db1ac-3dba-4f19-90da-809d4bc2f318",
   "metadata": {},
   "outputs": [],
   "source": [
    "# Zadanie 1 - funkcja\n",
    "\n",
    "P = 1 / 8 * np.array([[7, np.sqrt(3)], [np.sqrt(3), 5]])\n",
    "\n",
    "def f_func(x1_, x2_):\n",
    "    return np.exp(x1_ + 3 * x2_ - 0.1) + np.exp(-x1_ - 0.1) + 1/8 * ((-1 + x1_) * (7 * (-1 + x1_) + np.sqrt(3) * (-1 + x2_)) + (np.sqrt(3) * (-1 + x1_) + 5 * (-1 + x2_)) * (-1 + x2_))\n",
    "\n",
    "def g(x1_, x2_):\n",
    "    return np.array([\n",
    "        -np.exp(-0.1 - x1_) + np.exp(-0.1 + x1_ + 3 * x2_) + 1/8 * (14 * (-1 + x1_) + 2 * np.sqrt(3) * (-1 + x2_)),\n",
    "         3 * np.exp(-0.1 + x1_ + 3 * x2_) + 1/8 * (2 * np.sqrt(3) * (-1 + x1_) + 10 * (-1 + x2_))\n",
    "    ])"
   ]
  },
  {
   "cell_type": "code",
   "execution_count": 3,
   "id": "c9ced834-30e2-4b59-8041-7ab80792851f",
   "metadata": {},
   "outputs": [],
   "source": [
    "def sk1(delta_x, delta_g, delta_Hg):\n",
    "    return ((delta_x - delta_Hg) @ (delta_x - delta_Hg).transpose()) / ((delta_x - delta_Hg).transpose() @ delta_g)\n",
    "\n",
    "def dfp(delta_x, delta_g, delta_Hg):\n",
    "    return ((delta_x @ delta_x.transpose()) / (delta_g.transpose() @ delta_x)) - ((delta_Hg @ delta_Hg.transpose()) / (delta_g.transpose() @ delta_Hg))\n",
    "\n",
    "def bfgs(delta_x, delta_g, delta_Hg):\n",
    "    q1 = ((delta_Hg @ delta_Hg.transpose()) / (delta_g.transpose() @ delta_Hg))\n",
    "    q2 = ((delta_g.transpose() @ delta_x) / (delta_g.transpose() @ delta_Hg)) * ((delta_Hg @ delta_Hg.transpose()) / (delta_g.transpose() @ delta_Hg))\n",
    "    q3 = ((delta_Hg @ delta_x.transpose()) + (delta_Hg @ delta_x.transpose()).transpose()) / (delta_g.transpose() @ delta_Hg)\n",
    "    return - q1 - q2 + q3"
   ]
  },
  {
   "cell_type": "code",
   "execution_count": 4,
   "id": "cdc585bc-2f94-40d3-af06-a4ea24166832",
   "metadata": {},
   "outputs": [
    {
     "name": "stdout",
     "output_type": "stream",
     "text": [
      "Steps: 10\n",
      "x_optimal = [ 1.1887937  -0.52856589]\n",
      "optimal function value = 2.2505628092022616\n"
     ]
    }
   ],
   "source": [
    "# Zadanie 1\n",
    "x_path = []\n",
    "x = np.array([2, -2])\n",
    "H = np.eye(2)\n",
    "epsilon = 1e-4\n",
    "alpha = beta = 0.5\n",
    "\n",
    "while True:\n",
    "    grad = g(*x)\n",
    "    v = -H @ grad\n",
    "    xi = -grad.transpose() @ v\n",
    "    x_path.append(x)\n",
    "\n",
    "    # print(xi)\n",
    "    \n",
    "    if xi < epsilon:\n",
    "        break\n",
    "    else:\n",
    "        s = 1\n",
    "        while f_func(*(x + s * v)) > f_func(*x) + s * alpha * grad.transpose() @ v:\n",
    "            s *= beta\n",
    "\n",
    "        x = x + s * v   \n",
    "        \n",
    "    delta_x = s * v\n",
    "    delta_g = g(*x) - grad\n",
    "    delta_Hg = H @ delta_g\n",
    "        \n",
    "    delta = sk1(delta_x, delta_g, delta_Hg)\n",
    "    H += delta\n",
    "    # x = x_new\n",
    "    \n",
    "\n",
    "x_path = np.array(x_path)\n",
    "print(f\"Steps: {x_path.shape[0]}\\nx_optimal = {x}\\noptimal function value = {f_func(*x)}\")"
   ]
  },
  {
   "cell_type": "code",
   "execution_count": 5,
   "id": "2ae574dd-5505-4766-8bd1-56e737a5c988",
   "metadata": {},
   "outputs": [],
   "source": [
    "# Zadanie 2 - funcja\n",
    "\n",
    "def f_func(x1_, x2_):\n",
    "    return 100 * (x2_ - x1_ * x1_) ** 2 + (1 - x1_) ** 2\n",
    "\n",
    "def g(x1_, x2_):\n",
    "    return np.array([\n",
    "        -400 * x1_ * (x2_ - x1_ * x1_) - 2 * (1 - x1_),\n",
    "         200 * (x2_ - x1_ ** 2)\n",
    "    ])"
   ]
  },
  {
   "cell_type": "code",
   "execution_count": 11,
   "id": "bb9dc0a3-2361-488f-8c2b-417c7746845f",
   "metadata": {
    "scrolled": true
   },
   "outputs": [
    {
     "name": "stdout",
     "output_type": "stream",
     "text": [
      "4.0\n",
      "s = 0.5, v = [2. 0.]\n",
      "s = 0.25, v = [2. 0.]\n",
      "s = 0.125, v = [2. 0.]\n",
      "s = 0.0625, v = [2. 0.]\n",
      "przed [[1. 0.]\n",
      " [0. 1.]]\n",
      "[[ 0.01190369 -0.98809631]\n",
      " [-0.98809631  0.01190369]]\n",
      "-5.855196098047616\n",
      "Steps: 2\n",
      "x_optimal = [0.125 0.   ]\n",
      "optimal function value = 0.7900390625\n"
     ]
    }
   ],
   "source": [
    "# Zadanie 2 \n",
    "x_path = []\n",
    "x = np.array([0, 0])\n",
    "H = np.eye(2)\n",
    "epsilon = 1e-4\n",
    "alpha = beta = 0.5\n",
    "\n",
    "while True:\n",
    "    grad = g(*x)\n",
    "    v = -H @ grad\n",
    "    xi = -grad.transpose() @ v\n",
    "    x_path.append(x)\n",
    "\n",
    "    print(xi)\n",
    "    \n",
    "    if xi < epsilon:\n",
    "        break\n",
    "    else:\n",
    "        s = 1\n",
    "        while f_func(*(x + s * v)) > f_func(*x) + s * alpha * grad.transpose() @ v:\n",
    "            s *= beta\n",
    "\n",
    "            print(f\"s = {s}, v = {v}\")\n",
    "\n",
    "        x = x + s * v   \n",
    "        \n",
    "    delta_x = s * v\n",
    "    delta_g = g(*x) - grad\n",
    "    delta_Hg = H @ delta_g\n",
    "        \n",
    "    delta = bfgs(delta_x, delta_g, delta_Hg)\n",
    "    print(\"przed\", H)\n",
    "    H += delta\n",
    "    # H = np.abs(H)\n",
    "    print(H)\n",
    "\n",
    "x_path = np.array(x_path)\n",
    "print(f\"Steps: {x_path.shape[0]}\\nx_optimal = {x}\\noptimal function value = {f_func(*x)}\")"
   ]
  },
  {
   "cell_type": "code",
   "execution_count": 12,
   "id": "fc9966c9-e322-45be-9abc-abde9b6ed63a",
   "metadata": {},
   "outputs": [
    {
     "data": {
      "text/plain": [
       "array([0.125, 0.   ])"
      ]
     },
     "execution_count": 12,
     "metadata": {},
     "output_type": "execute_result"
    }
   ],
   "source": [
    "x"
   ]
  },
  {
   "cell_type": "code",
   "execution_count": 8,
   "id": "c5998583-eba6-415e-89a1-f0a4d0c2c853",
   "metadata": {},
   "outputs": [
    {
     "data": {
      "text/plain": [
       "5.855196098047616"
      ]
     },
     "execution_count": 8,
     "metadata": {},
     "output_type": "execute_result"
    }
   ],
   "source": [
    "grad.transpose() @ v"
   ]
  },
  {
   "cell_type": "code",
   "execution_count": null,
   "id": "08fe8734-a2f1-48a0-90a8-6a2b3119225c",
   "metadata": {},
   "outputs": [],
   "source": []
  }
 ],
 "metadata": {
  "kernelspec": {
   "display_name": "Python 3 (ipykernel)",
   "language": "python",
   "name": "python3"
  },
  "language_info": {
   "codemirror_mode": {
    "name": "ipython",
    "version": 3
   },
   "file_extension": ".py",
   "mimetype": "text/x-python",
   "name": "python",
   "nbconvert_exporter": "python",
   "pygments_lexer": "ipython3",
   "version": "3.10.12"
  }
 },
 "nbformat": 4,
 "nbformat_minor": 5
}
